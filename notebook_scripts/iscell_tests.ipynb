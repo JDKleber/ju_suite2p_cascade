{
 "cells": [
  {
   "cell_type": "code",
   "execution_count": null,
   "metadata": {},
   "outputs": [],
   "source": [
    "from functions_plots import *\n",
    "from functions_data_transformation import load_suite2p_paths as load_s2p\n",
    "\n",
    "def getStats(stat, frame_shape, output_df):\n",
    "    \"\"\"Accesses suite2p stats on ROIs and filters ROIs based on cascade spike probability being >= 1 into nid2idx and nid2idx_rejected (respectively)\"\"\"\n",
    "    MIN_PROB = 0 \n",
    "    pixel2neuron = np.full(frame_shape, fill_value=np.nan, dtype=float)\n",
    "    scatters = dict(x=[], y=[], color=[], text=[], iscell = [])\n",
    "    nid2idx = {}\n",
    "    nid2idx_rejected = {}\n",
    "    print(f\"Number of detected ROIs: {stat.shape[0]}\")\n",
    "    for n in range(stat.shape[0]):\n",
    "        estimated_spikes = output_df.iloc[n][\"EstimatedSpikes\"]\n",
    "\n",
    "        if estimated_spikes > MIN_PROB:\n",
    "            nid2idx[n] = len(scatters[\"x\"]) # Assign new idx\n",
    "            \n",
    "        else:\n",
    "            nid2idx_rejected[n] = len(scatters[\"x\"])\n",
    "\n",
    "        ypix = stat.iloc[n]['ypix'].flatten() - 1 #[~stat.iloc[n]['overlap']] - 1\n",
    "        xpix = stat.iloc[n]['xpix'].flatten() - 1 #[~stat.iloc[n]['overlap']] - 1\n",
    "\n",
    "        valid_idx = (xpix>=0) & (xpix < frame_shape[1]) & (ypix >=0) & (ypix < frame_shape[0])\n",
    "        ypix = ypix[valid_idx]\n",
    "        xpix = xpix[valid_idx]\n",
    "        yext, xext = boundary(ypix, xpix)\n",
    "        scatters['x'] += [xext]\n",
    "        scatters['y'] += [yext]\n",
    "        pixel2neuron[ypix, xpix] = n\n",
    "\n",
    "    return scatt ers, nid2idx, nid2idx_rejected, pixel2neuron\n",
    "\n",
    "\n",
    "def dispPlot(MaxImg, scatters, nid2idx, nid2idx_rejected,\n",
    "             pixel2neuron, F, Fneu, save_path, axs=None):\n",
    "             if axs is None:\n",
    "                fig = plt.figure(constrained_layout=True)\n",
    "                NUM_GRIDS=12\n",
    "                gs = fig.add_gridspec(NUM_GRIDS, 1)\n",
    "                ax1 = fig.add_subplot(gs[:NUM_GRIDS-2])\n",
    "                fig.set_size_inches(12,14)\n",
    "             else:\n",
    "                 ax1 = axs\n",
    "                 ax1.set_xlim(0, MaxImg.shape[0])\n",
    "                 ax1.set_ylim(MaxImg.shape[1], 0)\n",
    "             ax1.imshow(MaxImg, cmap='gist_gray')\n",
    "             ax1.tick_params(axis='both', which='both', bottom=False, top=False, \n",
    "                             labelbottom=False, left=False, right=False, labelleft=False)\n",
    "             print(\"Neurons count:\", len(nid2idx))\n",
    "             norm = matplotlib.colors.Normalize(vmin=0, vmax=1, clip=True) \n",
    "             mapper = cm.ScalarMappable(norm=norm, cmap=cm.gist_rainbow) \n",
    "\n",
    "             def plotDict(n2d2idx_dict, override_color = None):\n",
    "                 for neuron_id, idx in n2d2idx_dict.items():\n",
    "                     color = override_color if override_color else mapper.to_rgba(scatters['color'][idx])\n",
    "                            # print(f\"{idx}: {scatters['x']} - {scatters['y'][idx]}\")\n",
    "                            \n",
    "                     sc = ax1.scatter(scatters[\"x\"][idx], scatters['y'][idx], color = color, \n",
    "                                      marker='.', s=1)\n",
    "             plotDict(nid2idx, 'g')\n",
    "             plotDict(nid2idx_rejected, 'm')\n",
    "             ax1.set_title(f\"{len(nid2idx)} neurons used (green) out of {len(nid2idx)+len(nid2idx_rejected)} neurons detected (magenta - rejected)\") \n",
    "\n",
    "             plt.savefig(save_path)\n",
    "             plt.close(fig)"
   ]
  },
  {
   "cell_type": "code",
   "execution_count": 47,
   "metadata": {},
   "outputs": [
    {
     "ename": "AttributeError",
     "evalue": "'list' object has no attribute 'iloc'",
     "output_type": "error",
     "traceback": [
      "\u001b[1;31m---------------------------------------------------------------------------\u001b[0m",
      "\u001b[1;31mAttributeError\u001b[0m                            Traceback (most recent call last)",
      "Cell \u001b[1;32mIn[47], line 16\u001b[0m\n\u001b[0;32m     14\u001b[0m \u001b[38;5;28;01mfor\u001b[39;00m cell \u001b[38;5;129;01min\u001b[39;00m estimated_spikes:\n\u001b[0;32m     15\u001b[0m     \u001b[38;5;28;01mif\u001b[39;00m cell \u001b[38;5;241m>\u001b[39m \u001b[38;5;241m0\u001b[39m:\n\u001b[1;32m---> 16\u001b[0m         idx_true\u001b[38;5;241m.\u001b[39mappend(\u001b[43mestimated_spikes\u001b[49m\u001b[38;5;241;43m.\u001b[39;49m\u001b[43miloc\u001b[49m(cell))\n\u001b[0;32m     18\u001b[0m idx_true\n",
      "\u001b[1;31mAttributeError\u001b[0m: 'list' object has no attribute 'iloc'"
     ]
    }
   ],
   "source": [
    "home = r'D:\\users\\JC\\pipeline\\cysteine toxicity\\002-HCO3\\240704_L-cys_HCO3\\plate01\\t10_naoh\\240704_wtRt_C2006_DIV14_100k_bc_plate01_10x_treat_well001\\suite2p\\plane0'\n",
    "ops = np.load(home + '\\\\' + 'ops.npy', allow_pickle = True).item()\n",
    "stats = np.load(home + '\\\\' + 'stat.npy', allow_pickle = True)\n",
    "iscell = np.load(home + '\\\\' + 'iscell.npy', allow_pickle = True)\n",
    "cascade = np.load(home + '\\\\' + 'predictions_deltaF.npy', allow_pickle = True)\n",
    "flat_cell = iscell.flatten()[0:-1:2]\n",
    "Img = getImg(ops)\n",
    "test = cascade[:, ~np.isnan(cascade).any(axis=0)]\n",
    "estimated_spikes = []\n",
    "for t in test:\n",
    "    estimated_spikes.append(np.sum(t))\n",
    "\n",
    "idx_true = []\n",
    "for cell in estimated_spikes:\n",
    "    if cell > 0:\n",
    "        idx_true.append(estimated_spikes.iloc(cell))\n",
    "\n",
    "idx_true\n",
    "# scatters,nid2idx, idx_reject, pixel2n = getStats(stats, Img.shape, output_df)\n"
   ]
  }
 ],
 "metadata": {
  "kernelspec": {
   "display_name": "suite2p",
   "language": "python",
   "name": "python3"
  },
  "language_info": {
   "codemirror_mode": {
    "name": "ipython",
    "version": 3
   },
   "file_extension": ".py",
   "mimetype": "text/x-python",
   "name": "python",
   "nbconvert_exporter": "python",
   "pygments_lexer": "ipython3",
   "version": "3.8.18"
  }
 },
 "nbformat": 4,
 "nbformat_minor": 2
}
